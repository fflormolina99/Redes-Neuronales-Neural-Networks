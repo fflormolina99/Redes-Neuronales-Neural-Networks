{
 "cells": [
  {
   "cell_type": "code",
   "execution_count": 1,
   "id": "c338d920-0ca8-465b-90e1-2a15095d6403",
   "metadata": {},
   "outputs": [],
   "source": [
    "import matplotlib.pyplot as plt\n",
    "import numpy as np \n",
    "import math as mt"
   ]
  },
  {
   "cell_type": "code",
   "execution_count": 2,
   "id": "d6483301-f3aa-475f-827b-d825d94b5c97",
   "metadata": {},
   "outputs": [],
   "source": [
    "def rk4(f,x,t,dt,p):\n",
    "    \"\"\"\n",
    "    Calcula un paso de integración del método de Runge Kutta orden 4.\n",
    "    \n",
    "    Argumentos de entrada:\n",
    "    \n",
    "        f : R^n -> R^n\n",
    "        x = x(t) : R^n\n",
    "        t = tiempo : R\n",
    "        dt = paso de tiempo : R\n",
    "        p = parametros : R^q        \n",
    "        \n",
    "    Retorna aproximacion numérica de\n",
    "    \n",
    "        x(t+dt) : R^n\n",
    "\n",
    "    # Ejemplos:\n",
    "    \"\"\"    \n",
    "    k1 = f(x,t,p)\n",
    "    k2 = f(x+0.5*dt*k1,t+0.5*dt,p)\n",
    "    k3 = f(x+0.5*dt*k2,t+0.5*dt,p)\n",
    "    k4 = f(x+dt*k3,t+dt,p)\n",
    "    return x+dt*(k1+2.0*k2+2.0*k3+k4)/6.0"
   ]
  },
  {
   "cell_type": "code",
   "execution_count": 3,
   "id": "ee2ad23f-26d0-469f-a9f6-2c4e7d187a9f",
   "metadata": {},
   "outputs": [],
   "source": [
    "def integrador_ode(m,f,x0,a,b,k,p):\n",
    "    \"\"\"\n",
    "    Integra numéricamente la ODE\n",
    "    \n",
    "        dx/dt = f(x,t)\n",
    "        \n",
    "    sobre el intervalo t:[a,b] usando k pasos de integración y el método m, bajo condicion inicial x(a)=x0.\n",
    "    No es necesario que a<b.\n",
    "    \n",
    "    Argumentos de entrada:\n",
    "    \n",
    "        m = metodo de integracion (ej. euler, rk2, etc.)\n",
    "        f : R^n -> R^n\n",
    "        x0 = condicion inicial : R\n",
    "        a = tiempo inicial : R\n",
    "        b = tiempo final : R\n",
    "        k = num. pasos de integracion : N\n",
    "        p = parametros : R^q        \n",
    "    \n",
    "    Retorna:\n",
    "    \n",
    "        t : R^{k+1} , t_j = a+j*dt para j=0,1,...,k\n",
    "        x : R^{k+1,n} , x_ij = x_i(t_j) para i=0,1,...,n-1 y j=0,1,...,k\n",
    "        \n",
    "    donde a+k*dt = b.\n",
    "    \"\"\"  \n",
    "    assert k>0\n",
    "    n = len(x0)\n",
    "    dt = (b-a)/k\n",
    "    x = np.zeros((n,k+1))\n",
    "    t = np.zeros(k+1)\n",
    "    x[:,0] = x0\n",
    "    t[0] = a\n",
    "    for j in range(k):\n",
    "        t[j+1] = t[j] + dt\n",
    "        x[:,j+1] = m(f,x[:,j],t[j],dt,p)\n",
    "    return t,x"
   ]
  },
  {
   "cell_type": "markdown",
   "id": "dccaca0c-bf53-435d-afd9-76a8eb7a1a94",
   "metadata": {},
   "source": [
    "## Redes Neuronales: Práctico 2\n",
    "----------\n",
    "### Modelo neuronal de Izhikevich\n",
    "Consiste de dos ecuaciones de la forma \n",
    "$$\n",
    "\\dot{v}=0.04v^2+5v+140-u+I\\\\\n",
    "\\dot{u}=a(bv-u)\n",
    "$$\n",
    "con un reseteo auxiliar post disparo similar al del modelo Integrate-and-fire de la forma \n",
    "$$\n",
    "v(t)\\leftarrow\\:c\\\\\n",
    "u(t)\\leftarrow\\:u(t)+d\n",
    "$$\n",
    "cuando $v(t)>30\\:mV$.\n",
    "\n",
    "Aunque no estan explicitados en el paper, los valores iniciales para $v,u$ estan dados por el valor de reposo $V_r$ de $v$ para una corriente $I$ nula, y el parametro $c$, de forma que $V_0=V_r$ y $u_0=c.v_0$. Como el valor de $v_r$ es muy complicado de calcular analiticamente, lo que voy a hacer es dejar pasar suficiente tiempo para que cada neurona llegue al valor de reposo y luego aplicar el salto de corriente de $I=10$. \n",
    "\n",
    "Voy a probar primero el modelo sin el reseteo post disparo "
   ]
  },
  {
   "cell_type": "code",
   "execution_count": 4,
   "id": "b287c135-1ac0-458b-bcb4-921b0c9bece1",
   "metadata": {},
   "outputs": [
    {
     "name": "stderr",
     "output_type": "stream",
     "text": [
      "/tmp/ipykernel_11447/4200774099.py:23: RuntimeWarning: overflow encountered in double_scalars\n",
      "  f=(0.04*v**2+5.*v+140.-u+I, a*(b*v-u))\n",
      "/tmp/ipykernel_11447/4200774099.py:23: RuntimeWarning: invalid value encountered in double_scalars\n",
      "  f=(0.04*v**2+5.*v+140.-u+I, a*(b*v-u))\n"
     ]
    }
   ],
   "source": [
    "m=rk4\n",
    "x0=[-65.0,0.2*(-65.0)]\n",
    "ti=0.\n",
    "tf=10.\n",
    "#k=1000/0.1=10000\n",
    "k=100\n",
    "p=0\n",
    "\n",
    "heaviside = lambda x: 0.5 if x == 0.1 else 0 if x < 0.1 else 1\n",
    "\n",
    "def f(x,t,p):\n",
    "    \n",
    "    if isinstance(x,np.ndarray):\n",
    "        v=x[0]\n",
    "        u=x[1]\n",
    "    else:\n",
    "        raise ValueError(\"X must be a vector\")\n",
    "    \n",
    "    a=0.02\n",
    "    b=0.2\n",
    "    #I=0.\n",
    "    I=10.0*heaviside(t)\n",
    "    f=(0.04*v**2+5.*v+140.-u+I, a*(b*v-u))\n",
    "    return np.array(f)\n",
    "\n",
    "t_prueba,v_prueba = integrador_ode(m,f,x0,ti,tf,k,p)"
   ]
  },
  {
   "cell_type": "markdown",
   "id": "cd501a95-132c-4b75-b46a-6630ea4226c2",
   "metadata": {},
   "source": [
    "Bueno claramente hay un problema de overflow, vamos a agregar corriente externa nula para ver si asi no da overflow."
   ]
  },
  {
   "cell_type": "code",
   "execution_count": 5,
   "id": "facce9a9-d988-4102-9171-0de6dd2dad3a",
   "metadata": {},
   "outputs": [],
   "source": [
    "m=rk4\n",
    "x0=[-65.0,0.2*(-65.0)]\n",
    "ti=0.\n",
    "tf=10.\n",
    "#k=1000/0.1=10000\n",
    "k=100\n",
    "p=0\n",
    "\n",
    "heaviside = lambda x: 0.5 if x == 0.1 else 0 if x < 0.1 else 1\n",
    "\n",
    "def f(x,t,p):\n",
    "    \n",
    "    if isinstance(x,np.ndarray):\n",
    "        v=x[0]\n",
    "        u=x[1]\n",
    "    else:\n",
    "        raise ValueError(\"X must be a vector\")\n",
    "    \n",
    "    a=0.02\n",
    "    b=0.2\n",
    "    I=0.\n",
    "    #I=10.0*heaviside(t)\n",
    "    f=(0.04*v**2+5.*v+140.-u+I, a*(b*v-u))\n",
    "    return np.array(f)\n",
    "\n",
    "t_prueba,v_prueba = integrador_ode(m,f,x0,ti,tf,k,p)"
   ]
  },
  {
   "cell_type": "code",
   "execution_count": 6,
   "id": "fea6c8a9-5cf9-43d7-a862-6065c0b24087",
   "metadata": {},
   "outputs": [
    {
     "data": {
      "image/png": "[encoded data removed]",
      "text/plain": [
       "<Figure size 432x288 with 1 Axes>"
      ]
     },
     "metadata": {
      "needs_background": "light"
     },
     "output_type": "display_data"
    }
   ],
   "source": [
    "plt.title(\"Aproximación de RS\")\n",
    "plt.xlabel(\"Tiempo (ms)\")\n",
    "plt.ylabel(r'$V_m\\:(mV)$')\n",
    "plt.plot(t_prueba,v_prueba[0],label=\"Aproximación con RK4\",color=\"orange\",linestyle=\"-\",linewidth=1)\n",
    "plt.legend()\n",
    "#plt.savefig(\"disparo_Ie_constante\")\n",
    "plt.show()"
   ]
  },
  {
   "cell_type": "markdown",
   "id": "55679828-90f9-4b70-9953-6af546f5749a",
   "metadata": {},
   "source": [
    "Vemos que ahora da bien, y sin el mecanismo de disparo y con corriente nula llega a un valor de reposo de alrededor de -71 mV. Ahora vamos a agregar el mecanismo de disparo. "
   ]
  },
  {
   "cell_type": "code",
   "execution_count": 130,
   "id": "249de942-708f-412a-b640-fef3080fe2ce",
   "metadata": {},
   "outputs": [],
   "source": [
    "def integrador_ode_disparo(m,f,x0,a,b,k,p,c,d):\n",
    "    assert k>0\n",
    "    Vum=30.0\n",
    "    #c=-65.0\n",
    "    #d=8\n",
    "    n = len(x0)\n",
    "    dt = (b-a)/k\n",
    "    x = np.zeros((n,k+1))\n",
    "    t = np.zeros(k+1)\n",
    "    x[:,0] = x0\n",
    "    t[0] = a\n",
    "    for j in range(k):\n",
    "        t[j+1] = t[j] + dt\n",
    "        x[:,j+1] = m(f,x[:,j],t[j],dt,p)\n",
    "        if x[0,j+1] > Vum:\n",
    "            x[0,j+1] = c\n",
    "            x[1,j+1] = x[1,j+1]+d\n",
    "    return t,x"
   ]
  },
  {
   "cell_type": "code",
   "execution_count": 131,
   "id": "93461308-d816-42d5-be4a-e608ab9b4a54",
   "metadata": {},
   "outputs": [],
   "source": [
    "m=rk4\n",
    "x0=[-65.0,0.2*(-65.0)]\n",
    "ti=0.\n",
    "tf=500.\n",
    "#k=1000/0.1=10000\n",
    "k=5000\n",
    "p=0\n",
    "c=-65.0\n",
    "d=8\n",
    "\n",
    "heaviside = lambda x: 0.5 if x == 50 else 0 if x < 50 else 1\n",
    "\n",
    "def f(x,t,p):\n",
    "    \n",
    "    if isinstance(x,np.ndarray):\n",
    "        v=x[0]\n",
    "        u=x[1]\n",
    "    else:\n",
    "        raise ValueError(\"X must be a vector\")\n",
    "    \n",
    "    a=0.02\n",
    "    b=0.2\n",
    "    I=10.0*heaviside(t)\n",
    "    f=(0.04*v**2+5.*v+140.-u+I, a*(b*v-u))\n",
    "    return np.array(f)\n",
    "\n",
    "t_prueba,v_prueba = integrador_ode_disparo(m,f,x0,ti,tf,k,p,c,d)"
   ]
  },
  {
   "cell_type": "code",
   "execution_count": 132,
   "id": "75762ec5-7e56-4b23-8252-85c39e84f297",
   "metadata": {},
   "outputs": [
    {
     "data": {
      "image/png": "[encoded data removed]",
      "text/plain": [
       "<Figure size 432x288 with 1 Axes>"
      ]
     },
     "metadata": {
      "needs_background": "light"
     },
     "output_type": "display_data"
    }
   ],
   "source": [
    "plt.title(\"Aproximación de RS\")\n",
    "plt.xlabel(\"Tiempo (ms)\")\n",
    "plt.ylabel(r'$V_m\\:(mV)$')\n",
    "plt.plot(t_prueba,v_prueba[0],label=\"Aproximación con RK4\",color=\"orange\",linestyle=\"-\",linewidth=1)\n",
    "plt.legend()\n",
    "#plt.savefig(\"disparo_Ie_constante\")\n",
    "plt.show()"
   ]
  },
  {
   "cell_type": "markdown",
   "id": "2a9107da-0baf-4bca-a68a-a35a0d159a8c",
   "metadata": {},
   "source": [
    "Esto fue una prueba pero salio bien, y los valores que use para los parametros son los correspondientes a los de las neuronas corticales excitatorias de tipo RS (regular spiking). Voy a hacer lo mismo para todas las demas."
   ]
  },
  {
   "cell_type": "markdown",
   "id": "b549a253-6cc0-478e-ad9c-94bd243be09f",
   "metadata": {
    "tags": []
   },
   "source": [
    "----------\n",
    "### Neuronas corticales excitatorias \n",
    "#### 1. RS (regular spiking)\n",
    "\n",
    "a=0.02\n",
    "\n",
    "b=0.2\n",
    "\n",
    "c=-65 mV\n",
    "\n",
    "d=8"
   ]
  },
  {
   "cell_type": "code",
   "execution_count": 344,
   "id": "be040dd8-5e1d-47c3-92c6-fd9801cda7f5",
   "metadata": {},
   "outputs": [],
   "source": [
    "m=rk4\n",
    "a=0.02\n",
    "b=0.2\n",
    "c=-65.0\n",
    "d=8\n",
    "x0=[-70.0,-b*70.0]\n",
    "ti=0.\n",
    "tf=500.\n",
    "#k=1000/0.01=10000\n",
    "k=50000\n",
    "p=0\n",
    "\n",
    "\n",
    "heaviside = lambda x: 0.5 if x == 50 else 0 if x < 50 else 1\n",
    "\n",
    "def f(x,t,p):\n",
    "    \n",
    "    if isinstance(x,np.ndarray):\n",
    "        v=x[0]\n",
    "        u=x[1]\n",
    "    else:\n",
    "        raise ValueError(\"X must be a vector\")\n",
    "    \n",
    "    a=0.02\n",
    "    b=0.2\n",
    "    I=10.0*heaviside(t)\n",
    "    f=(0.04*v**2+5.*v+140.-u+I, a*(b*v-u))\n",
    "    return np.array(f)\n",
    "\n",
    "t_RS,v_RS = integrador_ode_disparo(m,f,x0,ti,tf,k,p,c,d)"
   ]
  },
  {
   "cell_type": "code",
   "execution_count": 346,
   "id": "9567f333-d739-4ce6-905c-cc4e1aaec209",
   "metadata": {},
   "outputs": [
    {
     "data": {
      "image/png": "[encoded data removed]",
      "text/plain": [
       "<Figure size 432x288 with 2 Axes>"
      ]
     },
     "metadata": {
      "needs_background": "light"
     },
     "output_type": "display_data"
    }
   ],
   "source": [
    "plt.subplots(3, 1, sharex=True)\n",
    "\n",
    "plt.subplot(3,1,(1,2))\n",
    "plt.xticks([])\n",
    "plt.ylabel(r'$v\\:(mV)$')\n",
    "plt.plot(t_RS,v_RS[0],label=\"v(t)\",color=\"orange\",linestyle=\"-\",linewidth=1)\n",
    "plt.legend()\n",
    "\n",
    "I=np.linspace(0,500,5000)\n",
    "plt.subplot(3,1,3)\n",
    "#ax2.xlabel(\"Tiempo (ms)\")\n",
    "plt.ylabel(\"I(t) (nA)\")\n",
    "plt.plot(I,10.0*np.vectorize(heaviside)(I),label=\"I(t)\",color=\"orange\",linestyle=\"-\")\n",
    "plt.legend()\n",
    "\n",
    "plt.xlabel(\"Tiempo (ms)\")\n",
    "plt.suptitle(\"Regular spiking\")\n",
    "plt.savefig(\"RS.pdf\")\n",
    "plt.show()"
   ]
  },
  {
   "cell_type": "markdown",
   "id": "2a2d4cb5-b270-4b1b-868a-b6f77d41a314",
   "metadata": {},
   "source": [
    "#### 2. IB (intrinsically bursting)\n",
    "\n",
    "a=0.02\n",
    "\n",
    "b=0.2\n",
    "\n",
    "c=-55 mV\n",
    "\n",
    "d=4"
   ]
  },
  {
   "cell_type": "code",
   "execution_count": 361,
   "id": "e771846d-b8ce-4a65-99b2-4e90716b54d5",
   "metadata": {},
   "outputs": [],
   "source": [
    "m=rk4\n",
    "a=0.02\n",
    "b=0.2\n",
    "c=-55.0\n",
    "d=4\n",
    "x0=[-70.0,-b*70.0]\n",
    "ti=0.\n",
    "tf=250.\n",
    "#k=1000/0.1=10000\n",
    "k=25000\n",
    "p=0\n",
    "\n",
    "\n",
    "heaviside = lambda x: 0.5 if x == 50 else 0 if x < 50 else 1\n",
    "\n",
    "def f(x,t,p):\n",
    "    \n",
    "    if isinstance(x,np.ndarray):\n",
    "        v=x[0]\n",
    "        u=x[1]\n",
    "    else:\n",
    "        raise ValueError(\"X must be a vector\")\n",
    "    \n",
    "    a=0.02\n",
    "    b=0.2\n",
    "    I=10.0*heaviside(t)\n",
    "    f=(0.04*v**2+5.*v+140.-u+I, a*(b*v-u))\n",
    "    return np.array(f)\n",
    "\n",
    "t_IB,v_IB = integrador_ode_disparo(m,f,x0,ti,tf,k,p,c,d)"
   ]
  },
  {
   "cell_type": "code",
   "execution_count": 363,
   "id": "0bb25785-0fbc-4668-ab97-60201df32a1a",
   "metadata": {},
   "outputs": [
    {
     "data": {
      "image/png": "[encoded data removed]",
      "text/plain": [
       "<Figure size 432x288 with 2 Axes>"
      ]
     },
     "metadata": {
      "needs_background": "light"
     },
     "output_type": "display_data"
    }
   ],
   "source": [
    "plt.subplots(3, 1, sharex=True)\n",
    "\n",
    "plt.subplot(3,1,(1,2))\n",
    "plt.xticks([])\n",
    "plt.ylabel(r'$v\\:(mV)$')\n",
    "plt.plot(t_IB,v_IB[0],label=\"v(t)\",color=\"green\",linestyle=\"-\",linewidth=1)\n",
    "plt.legend()\n",
    "\n",
    "I=np.linspace(0,250,2500)\n",
    "plt.subplot(3,1,3)\n",
    "#ax2.xlabel(\"Tiempo (ms)\")\n",
    "plt.ylabel(\"I(t) (nA)\")\n",
    "plt.plot(I,10.0*np.vectorize(heaviside)(I),label=\"I(t)\",color=\"green\",linestyle=\"-\")\n",
    "plt.legend()\n",
    "\n",
    "plt.xlabel(\"Tiempo (ms)\")\n",
    "plt.suptitle(\"Intrinsically bursting\")\n",
    "plt.savefig(\"IB.pdf\")\n",
    "plt.show()"
   ]
  },
  {
   "cell_type": "markdown",
   "id": "598dff89-c3b4-41ad-b8f3-a330dee9def9",
   "metadata": {},
   "source": [
    "#### 3. CH (chattering)\n",
    "\n",
    "a=0.02\n",
    "\n",
    "b=0.2\n",
    "\n",
    "c=-50 mV\n",
    "\n",
    "d=2"
   ]
  },
  {
   "cell_type": "code",
   "execution_count": 373,
   "id": "5d94062f-46cf-42ba-a45a-e5c82855806f",
   "metadata": {},
   "outputs": [],
   "source": [
    "m=rk4\n",
    "a=0.02\n",
    "b=0.2\n",
    "c=-50.0\n",
    "d=2\n",
    "x0=[-70,-b*70]\n",
    "ti=0.\n",
    "tf=250.\n",
    "#k=1000/0.1=10000\n",
    "k=250000\n",
    "p=0\n",
    "\n",
    "\n",
    "heaviside = lambda x: 0.5 if x == 50 else 0 if x < 50 else 1\n",
    "\n",
    "def f(x,t,p):\n",
    "    \n",
    "    if isinstance(x,np.ndarray):\n",
    "        v=x[0]\n",
    "        u=x[1]\n",
    "    else:\n",
    "        raise ValueError(\"X must be a vector\")\n",
    "    \n",
    "    a=0.02\n",
    "    b=0.2\n",
    "    I=10.0*heaviside(t)\n",
    "    f=(0.04*v**2+5.*v+140.-u+I, a*(b*v-u))\n",
    "    return np.array(f)\n",
    "\n",
    "t_CH,v_CH = integrador_ode_disparo(m,f,x0,ti,tf,k,p,c,d)"
   ]
  },
  {
   "cell_type": "code",
   "execution_count": 374,
   "id": "3a6f51ba-8df6-4793-9e8a-a0ec75beb37f",
   "metadata": {},
   "outputs": [
    {
     "data": {
      "image/png": "[encoded data removed]",
      "text/plain": [
       "<Figure size 432x288 with 2 Axes>"
      ]
     },
     "metadata": {
      "needs_background": "light"
     },
     "output_type": "display_data"
    }
   ],
   "source": [
    "plt.subplots(3, 1, sharex=True)\n",
    "\n",
    "plt.subplot(3,1,(1,2))\n",
    "plt.xticks([])\n",
    "plt.ylabel(r'$v\\:(mV)$')\n",
    "plt.plot(t_CH,v_CH[0],label=\"v(t)\",color=\"blue\",linestyle=\"-\",linewidth=1)\n",
    "plt.legend()\n",
    "\n",
    "I=np.linspace(0,250,2500)\n",
    "plt.subplot(3,1,3)\n",
    "#ax2.xlabel(\"Tiempo (ms)\")\n",
    "plt.ylabel(\"I(t) (nA)\")\n",
    "plt.plot(I,10.0*np.vectorize(heaviside)(I),label=\"I(t)\",color=\"blue\",linestyle=\"-\")\n",
    "plt.legend()\n",
    "\n",
    "plt.xlabel(\"Tiempo (ms)\")\n",
    "plt.suptitle(\"Chattering\")\n",
    "plt.savefig(\"CH.pdf\")\n",
    "plt.show()"
   ]
  },
  {
   "cell_type": "markdown",
   "id": "ec114fd7-b00e-458b-a93e-a870671a69a8",
   "metadata": {},
   "source": [
    "----------\n",
    "### Neuronas corticales inhibitorias \n",
    "#### 1. FS (fast spiking)\n",
    "\n",
    "a=0.1\n",
    "\n",
    "b=0.2\n",
    "\n",
    "c=-65 mV\n",
    "\n",
    "d=2"
   ]
  },
  {
   "cell_type": "code",
   "execution_count": 390,
   "id": "d5545ccd-aada-4597-85f6-007f42fbfff2",
   "metadata": {},
   "outputs": [],
   "source": [
    "m=rk4\n",
    "a=0.1\n",
    "b=0.2\n",
    "c=-65.0\n",
    "d=2\n",
    "x0=[-70.0,-b*70.0]\n",
    "ti=0.\n",
    "tf=500.\n",
    "#k=1000/0.1=10000\n",
    "k=100000\n",
    "p=0\n",
    "\n",
    "\n",
    "heaviside = lambda x: 0.5 if x == 50 else 0 if x < 50 else 1\n",
    "\n",
    "def f(x,t,p):\n",
    "    \n",
    "    if isinstance(x,np.ndarray):\n",
    "        v=x[0]\n",
    "        u=x[1]\n",
    "    else:\n",
    "        raise ValueError(\"X must be a vector\")\n",
    "    \n",
    "    a=0.02\n",
    "    b=0.2\n",
    "    I=10.0*heaviside(t)\n",
    "    f=(0.04*v**2+5.*v+140.-u+I, a*(b*v-u))\n",
    "    return np.array(f)\n",
    "\n",
    "t_FS,v_FS = integrador_ode_disparo(m,f,x0,ti,tf,k,p,c,d)"
   ]
  },
  {
   "cell_type": "code",
   "execution_count": 393,
   "id": "7e4f8c9a-24c8-4e69-8072-927e5a83e5d3",
   "metadata": {},
   "outputs": [
    {
     "data": {
      "image/png": "[encoded data removed]",
      "text/plain": [
       "<Figure size 432x288 with 2 Axes>"
      ]
     },
     "metadata": {
      "needs_background": "light"
     },
     "output_type": "display_data"
    }
   ],
   "source": [
    "plt.subplots(3, 1, sharex=True)\n",
    "\n",
    "plt.subplot(3,1,(1,2))\n",
    "plt.xticks([])\n",
    "plt.ylabel(r'$v\\:(mV)$')\n",
    "plt.plot(t_FS,v_FS[0],label=\"v(t)\",color=\"purple\",linestyle=\"-\",linewidth=1)\n",
    "plt.legend()\n",
    "\n",
    "I=np.linspace(0,500,5000)\n",
    "plt.subplot(3,1,3)\n",
    "#ax2.xlabel(\"Tiempo (ms)\")\n",
    "plt.ylabel(\"I(t) (nA)\")\n",
    "plt.plot(I,10.0*np.vectorize(heaviside)(I),label=\"I(t)\",color=\"purple\",linestyle=\"-\")\n",
    "plt.legend()\n",
    "\n",
    "plt.xlabel(\"Tiempo (ms)\")\n",
    "plt.suptitle(\"Fast spiking\")\n",
    "plt.savefig(\"FS.pdf\")\n",
    "plt.show()"
   ]
  },
  {
   "cell_type": "markdown",
   "id": "89b11222-a677-4a77-8564-8818d46b709f",
   "metadata": {},
   "source": [
    "#### 2. LTS (low-threshold spiking)\n",
    "\n",
    "a=0.02\n",
    "\n",
    "b=0.25\n",
    "\n",
    "c=-65 mV\n",
    "\n",
    "d=2"
   ]
  },
  {
   "cell_type": "code",
   "execution_count": 398,
   "id": "f0f7689c-c1b5-40d9-96c6-41a0de222271",
   "metadata": {},
   "outputs": [],
   "source": [
    "m=rk4\n",
    "a=0.02\n",
    "b=0.25\n",
    "c=-65.0\n",
    "d=2\n",
    "x0=[-65.0,-b*65.0]\n",
    "ti=0.\n",
    "tf=250.\n",
    "#k=1000/0.1=10000\n",
    "k=50000\n",
    "p=0\n",
    "\n",
    "\n",
    "heaviside = lambda x: 0.5 if x == 70 else 0 if x < 70 else 1\n",
    "\n",
    "def f(x,t,p): \n",
    "    \n",
    "    if isinstance(x,np.ndarray):\n",
    "        v=x[0]\n",
    "        u=x[1]\n",
    "    else:\n",
    "        raise ValueError(\"X must be a vector\")\n",
    "    \n",
    "    a=0.02\n",
    "    b=0.25\n",
    "    I=10.0*heaviside(t)\n",
    "    f=(0.04*v**2+5.*v+140.-u+I, a*(b*v-u))\n",
    "    return np.array(f)\n",
    "\n",
    "t_LTS,v_LTS = integrador_ode_disparo(m,f,x0,ti,tf,k,p,c,d)"
   ]
  },
  {
   "cell_type": "code",
   "execution_count": 400,
   "id": "822c3552-963d-4025-94cc-3b71b3095f79",
   "metadata": {},
   "outputs": [
    {
     "data": {
      "image/png": "[encoded data removed]",
      "text/plain": [
       "<Figure size 432x288 with 2 Axes>"
      ]
     },
     "metadata": {
      "needs_background": "light"
     },
     "output_type": "display_data"
    }
   ],
   "source": [
    "plt.subplots(3, 1, sharex=True)\n",
    "\n",
    "plt.subplot(3,1,(1,2))\n",
    "plt.xticks([])\n",
    "plt.ylabel(r'$v\\:(mV)$')\n",
    "plt.plot(t_LTS,v_LTS[0],label=\"v(t)\",color=\"olive\",linestyle=\"-\",linewidth=1)\n",
    "plt.legend()\n",
    "\n",
    "I=np.linspace(0,250,2500)\n",
    "plt.subplot(3,1,3)\n",
    "#ax2.xlabel(\"Tiempo (ms)\")\n",
    "plt.ylabel(\"I(t) (nA)\")\n",
    "plt.plot(I,10.0*np.vectorize(heaviside)(I),label=\"I(t)\",color=\"olive\",linestyle=\"-\")\n",
    "plt.legend()\n",
    "\n",
    "plt.xlabel(\"Tiempo (ms)\")\n",
    "plt.suptitle(\"Low-threshold spiking\")\n",
    "plt.savefig(\"LTS.pdf\")\n",
    "plt.show()"
   ]
  },
  {
   "cell_type": "markdown",
   "id": "d000ff55-bfdb-4784-ac81-7b6b1f7a357f",
   "metadata": {},
   "source": [
    "----------\n",
    "### Neuronas talamo-corticales\n",
    "#### 1. TC (thalamo-cortical), primer regimen\n",
    "\n",
    "a=0.02\n",
    "\n",
    "b=0.2\n",
    "\n",
    "c=-65 mV\n",
    "\n",
    "d=0.05"
   ]
  },
  {
   "cell_type": "code",
   "execution_count": 224,
   "id": "4e0d8503-5f52-4af5-b74c-dcaeb4c46fbb",
   "metadata": {},
   "outputs": [],
   "source": [
    "m=rk4\n",
    "a=0.02\n",
    "b=0.25\n",
    "c=-63.0\n",
    "d=0.05\n",
    "x0=[-63.0,-b*63.0]\n",
    "ti=0.\n",
    "tf=200.\n",
    "#k=1000/0.1=10000\n",
    "k=20000\n",
    "p=0\n",
    "\n",
    "def Itc1(t):\n",
    "    if t>10:\n",
    "        return 1.0\n",
    "    else:\n",
    "        return 0.0\n",
    "#heaviside_TC1 = lambda x: 0 if x < 10 else 1\n",
    "\n",
    "def f(x,t,p):\n",
    "    \n",
    "    if isinstance(x,np.ndarray):\n",
    "        v=x[0]\n",
    "        u=x[1]\n",
    "    else:\n",
    "        raise ValueError(\"X must be a vector\")\n",
    "    \n",
    "    a=0.02\n",
    "    b=0.25\n",
    "    #I=5*Itc1(t)\n",
    "    f=(0.04*v**2+5.*v+140.-u+1.3*Itc1(t), a*(b*v-u))\n",
    "    return np.array(f)\n",
    "\n",
    "t_TC1,v_TC1 = integrador_ode_disparo(m,f,x0,ti,tf,k,p,c,d)"
   ]
  },
  {
   "cell_type": "code",
   "execution_count": 401,
   "id": "dc06eaa8-dc34-4dc6-848a-de6f86dbc6c4",
   "metadata": {},
   "outputs": [
    {
     "data": {
      "image/png": "[encoded data removed]",
      "text/plain": [
       "<Figure size 432x288 with 2 Axes>"
      ]
     },
     "metadata": {
      "needs_background": "light"
     },
     "output_type": "display_data"
    }
   ],
   "source": [
    "plt.subplots(3, 1, sharex=True)\n",
    "\n",
    "plt.subplot(3,1,(1,2))\n",
    "plt.xticks([])\n",
    "plt.ylabel(r'$v\\:(mV)$')\n",
    "plt.plot(t_TC1,v_TC1[0],label=\"v(t)\",color=\"red\",linestyle=\"-\",linewidth=1)\n",
    "plt.legend()\n",
    "\n",
    "I=np.linspace(0,200,2000)\n",
    "plt.subplot(3,1,3)\n",
    "#ax2.xlabel(\"Tiempo (ms)\")\n",
    "plt.ylabel(\"I(t) (nA)\")\n",
    "plt.plot(I,1.3*np.vectorize(Itc1)(I),label=\"I(t)\",color=\"red\",linestyle=\"-\")\n",
    "plt.legend()\n",
    "\n",
    "plt.xlabel(\"Tiempo (ms)\")\n",
    "plt.suptitle(\"Thalamo-cortical, primer regimen\")\n",
    "plt.savefig(\"TC1.pdf\")\n",
    "plt.show()"
   ]
  },
  {
   "cell_type": "markdown",
   "id": "e695cbe9-8625-4dfb-84a4-5ed4c195c10e",
   "metadata": {},
   "source": [
    "#### 2. TC (thalamo-cortical), segundo regimen\n",
    "\n",
    "a=0.02\n",
    "\n",
    "b=0.2\n",
    "\n",
    "c=-65 mV\n",
    "\n",
    "d=0.05\n",
    "\n",
    "con un salto de corriente negativo"
   ]
  },
  {
   "cell_type": "code",
   "execution_count": 238,
   "id": "82dbe989-8e54-4558-8884-2153c96a7473",
   "metadata": {},
   "outputs": [],
   "source": [
    "m=rk4\n",
    "a=0.02\n",
    "b=0.2577\n",
    "c=-63.0\n",
    "d=0.75\n",
    "x0=[-87.0,-b*87.0]\n",
    "ti=0.\n",
    "tf=150.\n",
    "#k=1000/0.1=10000\n",
    "k=15000\n",
    "p=0\n",
    "\n",
    "\n",
    "def Itc2(t):\n",
    "    if t>10:\n",
    "        return 0.0\n",
    "    else:\n",
    "        return -1.0\n",
    "\n",
    "def f(x,t,p):\n",
    "    \n",
    "    if isinstance(x,np.ndarray):\n",
    "        v=x[0]\n",
    "        u=x[1]\n",
    "    else:\n",
    "        raise ValueError(\"X must be a vector\")\n",
    "    \n",
    "    a=0.02\n",
    "    b=0.2577\n",
    "    I=30.19*Itc2(t)\n",
    "    f=(0.04*v**2+5.*v+140.-u+I, a*(b*v-u))\n",
    "    return np.array(f)\n",
    "\n",
    "t_TC2,v_TC2 = integrador_ode_disparo(m,f,x0,ti,tf,k,p,c,d)"
   ]
  },
  {
   "cell_type": "code",
   "execution_count": 402,
   "id": "8af10246-5b8a-4854-bf6e-5bee3a935cb3",
   "metadata": {},
   "outputs": [
    {
     "data": {
      "image/png": "[encoded data removed]",
      "text/plain": [
       "<Figure size 432x288 with 2 Axes>"
      ]
     },
     "metadata": {
      "needs_background": "light"
     },
     "output_type": "display_data"
    }
   ],
   "source": [
    "plt.subplots(3, 1, sharex=True)\n",
    "\n",
    "plt.subplot(3,1,(1,2))\n",
    "plt.xticks([])\n",
    "plt.ylabel(r'$v\\:(mV)$')\n",
    "plt.plot(t_TC2,v_TC2[0],label=\"v(t)\",color=\"deeppink\",linestyle=\"-\",linewidth=1)\n",
    "plt.legend()\n",
    "\n",
    "I=np.linspace(0,150,1500)\n",
    "plt.subplot(3,1,3)\n",
    "#ax2.xlabel(\"Tiempo (ms)\")\n",
    "plt.ylabel(\"I(t) (nA)\")\n",
    "plt.plot(I,30.19*np.vectorize(Itc2)(I),label=\"I(t)\",color=\"deeppink\",linestyle=\"-\")\n",
    "plt.legend()\n",
    "\n",
    "plt.xlabel(\"Tiempo (ms)\")\n",
    "plt.suptitle(\"Thalamo-cortical, segundo regimen\")\n",
    "plt.savefig(\"TC2.pdf\")\n",
    "plt.show()"
   ]
  },
  {
   "cell_type": "markdown",
   "id": "c5773c30-15dc-4a5a-9d86-0cd11902d9f1",
   "metadata": {},
   "source": [
    "----------\n",
    "### Resonador\n",
    "\n",
    "\n",
    "- **RZ (resonator)**\n",
    "\n",
    "a=0.1\n",
    "\n",
    "b=0.26\n",
    "\n",
    "c=-65 mV\n",
    "\n",
    "d=2"
   ]
  },
  {
   "cell_type": "code",
   "execution_count": 415,
   "id": "ca6cf7da-3a8c-42bf-9932-b009893949e2",
   "metadata": {},
   "outputs": [],
   "source": [
    "m=rk4\n",
    "#a=0.1\n",
    "b=0.2577\n",
    "c=-65.0\n",
    "d=2\n",
    "x0=[c,b*c]\n",
    "ti=0.\n",
    "tf=140.\n",
    "#k=1000/0.1=10000\n",
    "k=14000\n",
    "p=0\n",
    "\n",
    "\n",
    "def Irz(t):\n",
    "    if t<10:\n",
    "        return 0\n",
    "    else:\n",
    "        if ((t>20) and (t<60)):\n",
    "            return 0.015\n",
    "        else:\n",
    "            if ((t>60) and (t<62)):\n",
    "                return 2.6\n",
    "            else:\n",
    "                if ((94 < t) and (t<96)):\n",
    "                    return 2.6\n",
    "                else:\n",
    "                    if ((125<t) and t<127):\n",
    "                        return 2.6\n",
    "                    else:\n",
    "                        return 0.015\n",
    "                        \n",
    "def Irz2(t):\n",
    "    if t<50:\n",
    "        return 0\n",
    "    else:\n",
    "        return 1.0\n",
    "    \n",
    "\n",
    "def f(x,t,p):\n",
    "    \n",
    "    if isinstance(x,np.ndarray):\n",
    "        v=x[0]\n",
    "        u=x[1]\n",
    "    else:\n",
    "        raise ValueError(\"X must be a vector\")\n",
    "    \n",
    "    a=0.1\n",
    "    b=0.2577\n",
    "    #I=10.0*Irz(t)\n",
    "    f=(0.04*v**2+5.*v+140.-u+Irz(t), a*(b*v-u))\n",
    "    return np.array(f)\n",
    "\n",
    "t_RZ,v_RZ = integrador_ode_disparo(m,f,x0,ti,tf,k,p,c,d)"
   ]
  },
  {
   "cell_type": "code",
   "execution_count": 417,
   "id": "279fcc93-a1d8-49f7-b049-cd472e2c4b8d",
   "metadata": {},
   "outputs": [
    {
     "data": {
      "image/png": "[encoded data removed]",
      "text/plain": [
       "<Figure size 432x288 with 2 Axes>"
      ]
     },
     "metadata": {
      "needs_background": "light"
     },
     "output_type": "display_data"
    }
   ],
   "source": [
    "plt.subplots(3, 1, sharex=True)\n",
    "\n",
    "plt.subplot(3,1,(1,2))\n",
    "plt.xticks([])\n",
    "plt.ylabel(r'$v\\:(mV)$')\n",
    "plt.plot(t_RZ,v_RZ[0],label=\"v(t)\",color=\"darkorange\",linestyle=\"-\",linewidth=1)\n",
    "plt.legend()\n",
    "\n",
    "I=np.linspace(0,140,1400)\n",
    "plt.subplot(3,1,3)\n",
    "#ax2.xlabel(\"Tiempo (ms)\")\n",
    "plt.ylabel(\"I(t) (nA)\")\n",
    "plt.plot(I,np.vectorize(Irz)(I),label=\"I(t)\",color=\"darkorange\",linestyle=\"-\")\n",
    "plt.legend()\n",
    "\n",
    "plt.xlabel(\"Tiempo (ms)\")\n",
    "plt.suptitle(\"Resonator\")\n",
    "plt.savefig(\"RZ.pdf\")\n",
    "plt.show()"
   ]
  }
 ],
 "metadata": {
  "kernelspec": {
   "display_name": "Python 3 (ipykernel)",
   "language": "python",
   "name": "python3"
  },
  "language_info": {
   "codemirror_mode": {
    "name": "ipython",
    "version": 3
   },
   "file_extension": ".py",
   "mimetype": "text/x-python",
   "name": "python",
   "nbconvert_exporter": "python",
   "pygments_lexer": "ipython3",
   "version": "3.10.4"
  }
 },
 "nbformat": 4,
 "nbformat_minor": 5
}
