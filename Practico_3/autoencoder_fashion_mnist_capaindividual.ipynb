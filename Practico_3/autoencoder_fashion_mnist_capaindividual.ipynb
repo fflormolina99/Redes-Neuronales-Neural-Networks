{
 "cells": [
  {
   "cell_type": "code",
   "execution_count": 1,
   "metadata": {},
   "outputs": [],
   "source": [
    "import torch\n",
    "from torch import nn\n",
    "from torch.nn import functional as F\n",
    "from torch.utils.data import Dataset, DataLoader, Subset, random_split\n",
    "from torchvision import datasets\n",
    "from torchvision.transforms import ToTensor, Lambda, Compose\n",
    "import matplotlib.pyplot as plt\n",
    "from matplotlib import cm\n",
    "import numpy as np\n",
    "import sklearn as skl\n",
    "import pandas as pd\n",
    "#from torchviz import make_dot\n",
    "import torch.optim as optim\n",
    "from collections import defaultdict\n",
    "import pickle\n",
    "import dill\n",
    "import json\n",
    "import datetime\n",
    "try:\n",
    "    import google.colab\n",
    "    from google.colab import files  \n",
    "    COLAB = True\n",
    "except:\n",
    "    COLAB = False"
   ]
  },
  {
   "cell_type": "code",
   "execution_count": 2,
   "metadata": {},
   "outputs": [
    {
     "name": "stdout",
     "output_type": "stream",
     "text": [
      "Usando el dispositivo cpu\n"
     ]
    }
   ],
   "source": [
    "#Como siempre chequeamos que este el GPU o el CPU\n",
    "device = 'cuda' if torch.cuda.is_available() else 'cpu'\n",
    "print('Usando el dispositivo {}'.format(device))"
   ]
  },
  {
   "cell_type": "code",
   "execution_count": 3,
   "metadata": {},
   "outputs": [],
   "source": [
    "# Cargamos los datos de FASHION-MNIST\n",
    "train_dataset = datasets.FashionMNIST(\n",
    "    root=\"data\",\n",
    "    train=True,\n",
    "    download=True,\n",
    "    transform=ToTensor()\n",
    ")\n",
    "test_dataset = datasets.FashionMNIST(\n",
    "    root=\"data\",\n",
    "    train=False,\n",
    "    download=True,\n",
    "    transform=ToTensor()\n",
    ")"
   ]
  },
  {
   "cell_type": "code",
   "execution_count": 4,
   "metadata": {},
   "outputs": [],
   "source": [
    "class ShowImage(Dataset):\n",
    "    def __init__(self,dataset):\n",
    "        self.dataset=dataset\n",
    "    def __len__(self):\n",
    "        return len(self.dataset)\n",
    "    def __getitem__(self,i):\n",
    "        image,label=self.dataset[i]\n",
    "        label=torch.flatten(image)\n",
    "        return image,label"
   ]
  },
  {
   "cell_type": "code",
   "execution_count": 5,
   "metadata": {},
   "outputs": [
    {
     "data": {
      "text/plain": [
       "(60000, 10000)"
      ]
     },
     "execution_count": 5,
     "metadata": {},
     "output_type": "execute_result"
    }
   ],
   "source": [
    "train_dataset=ShowImage(train_dataset)\n",
    "test_dataset=ShowImage(test_dataset)\n",
    "len(train_dataset), len(test_dataset)"
   ]
  },
  {
   "cell_type": "code",
   "execution_count": 6,
   "metadata": {},
   "outputs": [],
   "source": [
    "class Autoencoder(nn.Module):\n",
    "    def __init__(self,n=64,p=0.1):\n",
    "        super().__init__()        \n",
    "        self.encoder = torch.nn.Sequential(\n",
    "            nn.Flatten(),\n",
    "            nn.Linear(28*28, n),\n",
    "            nn.Dropout(p),\n",
    "            nn.ReLU(),\n",
    "            #nn.Linear(n, n)\n",
    "        )\n",
    "          \n",
    "        self.decoder = torch.nn.Sequential(\n",
    "            nn.Dropout(p),\n",
    "            nn.ReLU(),\n",
    "            nn.Linear(n,28*28)\n",
    "        )\n",
    "  \n",
    "    def forward(self, x):\n",
    "        encoded = self.encoder(x)\n",
    "        decoded = self.decoder(encoded)\n",
    "        return decoded\n",
    "  \n",
    "# Instantiating the model and hyperparameters\n",
    "#model = Autoencoder()\n",
    "#criterion = torch.nn.MSELoss()\n",
    "#num_epochs = 100\n",
    "#optimizer = torch.optim.Adam(model.parameters(), lr=1e-3)"
   ]
  },
  {
   "cell_type": "code",
   "execution_count": 7,
   "metadata": {},
   "outputs": [
    {
     "name": "stdout",
     "output_type": "stream",
     "text": [
      "Autoencoder(\n",
      "  (encoder): Sequential(\n",
      "    (0): Flatten(start_dim=1, end_dim=-1)\n",
      "    (1): Linear(in_features=784, out_features=64, bias=True)\n",
      "    (2): Dropout(p=0.1, inplace=False)\n",
      "    (3): ReLU()\n",
      "  )\n",
      "  (decoder): Sequential(\n",
      "    (0): Dropout(p=0.1, inplace=False)\n",
      "    (1): ReLU()\n",
      "    (2): Linear(in_features=64, out_features=784, bias=True)\n",
      "  )\n",
      ")\n"
     ]
    }
   ],
   "source": [
    "model=Autoencoder().to(device)\n",
    "print(model)"
   ]
  },
  {
   "cell_type": "code",
   "execution_count": 68,
   "metadata": {},
   "outputs": [],
   "source": [
    "# Definimos la función de entrenamiento\n",
    "def train_loop(dataloader,model,loss_fn,optimizer,verbose_each=32):  \n",
    "    # Calculamos cosas utiles que necesitamos\n",
    "    num_samples = len(dataloader.dataset) #numero de muestras de entrenamiento\n",
    "    # Seteamos el modelo en modo entrenamiento. Esto sirve para activar, por ejemplo, dropout, etc. durante la fase de entrenamiento.\n",
    "    model.train()\n",
    "    # Pasamos el modelo a la GPU si está disponible.        \n",
    "    model = model.to(device)    \n",
    "    # Iteramos sobre lotes (batchs)\n",
    "    for batch,(X,y) in enumerate(dataloader):\n",
    "        # Pasamos los tensores a la GPU si está disponible.\n",
    "        X = X.to(device)\n",
    "        y = y.to(device)      \n",
    "        # Calculamos la predicción del modelo y la correspondiente pérdida (error)\n",
    "        pred = model(X)\n",
    "        loss = loss_fn(pred,y)\n",
    "        # Backpropagamos usando el optimizador proveido.\n",
    "        optimizer.zero_grad()\n",
    "        loss.backward()\n",
    "        optimizer.step()\n",
    "        # Imprimimos el progreso cada 100 batchs\n",
    "        if batch % verbose_each*len(X) == 0:\n",
    "            loss   = loss.item()\n",
    "            sample = batch*len(X) # Número de batch * número de muestras en cada batch\n",
    "            #print(f\"batch={batch} loss={loss:>7f}  muestras-procesadas:[{sample:>5d}/{num_samples:>5d}]\")            \n",
    "# De manera similar, definimos la función de validación y testeo\n",
    "def test_loop(dataloader,model,loss_fn):\n",
    "    num_samples  = len(dataloader.dataset)\n",
    "    num_batches  = len(dataloader)\n",
    "    avrg_loss    = 0\n",
    "    frac_correct = 0\n",
    "    # Seteamos el modelo en modo evaluacion. Esto sirve para desactivar, por ejemplo, dropout, etc. cuando no estamos en una fase de entrenamiento.\n",
    "    model.eval()\n",
    "    # Pasamos el modelo la GPU si está disponible.    \n",
    "    model = model.to(device)    \n",
    "    # Para validar, desactivamos el cálculo de gradientes.\n",
    "    with torch.no_grad():\n",
    "        # Iteramos sobre lotes (batches)\n",
    "        for X,y in dataloader:\n",
    "            # Pasamos los tensores a la GPU si está disponible.\n",
    "            X = X.to(device)\n",
    "            y = y.to(device)           \n",
    "            # Calculamos las predicciones del modelo...\n",
    "            pred = model(X)\n",
    "            # y las correspondientes pérdidas (errores), los cuales vamos acumulando en un valor total.\n",
    "            num_batches += 1\n",
    "            avrg_loss += loss_fn(pred,y).item()\n",
    "            # También calculamos el número de predicciones correctas, y lo acumulamos en un total.\n",
    "            #num_samples += y.size(0)            \n",
    "            #frac_correct += (pred.argmax(1)==y).type(torch.float).sum().item()\n",
    "    # Calculamos la pérdida total y la fracción de clasificaciones correctas, y las imprimimos.\n",
    "    avrg_loss    /= num_batches\n",
    "    frac_correct /= num_samples\n",
    "    #print(f\"Test Error: \\n Accuracy: {frac_correct:>0.5f}, Avg. loss: {avrg_loss:>8f} \\n\")\n",
    "    return avrg_loss,frac_correct"
   ]
  },
  {
   "cell_type": "code",
   "execution_count": 69,
   "metadata": {},
   "outputs": [
    {
     "name": "stdout",
     "output_type": "stream",
     "text": [
      "n=512 k=0 epoch=0 train_loss=0.012066690111532807 train_accu=0.0 valid_loss=0.012051020935177802 valid_accu=0.0\n",
      "n=512 k=0 epoch=1 train_loss=0.009372064207370082 train_accu=0.0 valid_loss=0.009388633631169796 valid_accu=0.0\n",
      "n=512 k=0 epoch=2 train_loss=0.007805964311895271 train_accu=0.0 valid_loss=0.007827107049524783 valid_accu=0.0\n",
      "n=512 k=0 epoch=3 train_loss=0.00693258010627081 train_accu=0.0 valid_loss=0.006954075256362558 valid_accu=0.0\n",
      "n=512 k=0 epoch=4 train_loss=0.00647340496070683 train_accu=0.0 valid_loss=0.006499249022454023 valid_accu=0.0\n",
      "n=512 k=0 epoch=5 train_loss=0.005954760996003946 train_accu=0.0 valid_loss=0.005982245691120625 valid_accu=0.0\n",
      "n=512 k=0 epoch=6 train_loss=0.005675801952990393 train_accu=0.0 valid_loss=0.005705739837139845 valid_accu=0.0\n",
      "n=512 k=0 epoch=7 train_loss=0.0054854178102687005 train_accu=0.0 valid_loss=0.005517134862020612 valid_accu=0.0\n",
      "n=512 k=0 epoch=8 train_loss=0.0052428181981667875 train_accu=0.0 valid_loss=0.0052762755658477545 valid_accu=0.0\n",
      "n=512 k=0 epoch=9 train_loss=0.005034877313300967 train_accu=0.0 valid_loss=0.005070250574499368 valid_accu=0.0\n",
      "n=512 k=0 epoch=10 train_loss=0.004982677016717692 train_accu=0.0 valid_loss=0.005018139351159334 valid_accu=0.0\n",
      "n=512 k=0 epoch=11 train_loss=0.004783156397752464 train_accu=0.0 valid_loss=0.004820658825337887 valid_accu=0.0\n",
      "n=512 k=0 epoch=12 train_loss=0.00469274065302064 train_accu=0.0 valid_loss=0.004732369212433696 valid_accu=0.0\n",
      "n=512 k=0 epoch=13 train_loss=0.004644008011867603 train_accu=0.0 valid_loss=0.004684397811070084 valid_accu=0.0\n",
      "n=512 k=0 epoch=14 train_loss=0.004552845618066689 train_accu=0.0 valid_loss=0.004595184326171875 valid_accu=0.0\n",
      "n=512 k=0 epoch=15 train_loss=0.004424682756265005 train_accu=0.0 valid_loss=0.00446831570006907 valid_accu=0.0\n",
      "n=512 k=0 epoch=16 train_loss=0.004386430404459437 train_accu=0.0 valid_loss=0.0044319397304207085 valid_accu=0.0\n",
      "n=512 k=0 epoch=17 train_loss=0.004398718429729343 train_accu=0.0 valid_loss=0.004444608092308044 valid_accu=0.0\n",
      "n=512 k=0 epoch=18 train_loss=0.004392337845638394 train_accu=0.0 valid_loss=0.004438381595537067 valid_accu=0.0\n",
      "n=512 k=0 epoch=19 train_loss=0.004269448822985093 train_accu=0.0 valid_loss=0.004318725876510143 valid_accu=0.0\n",
      "n=512 k=0 epoch=20 train_loss=0.004230909150404235 train_accu=0.0 valid_loss=0.0042823503725230696 valid_accu=0.0\n",
      "n=512 k=0 epoch=21 train_loss=0.004328649778229495 train_accu=0.0 valid_loss=0.004380787024274468 valid_accu=0.0\n",
      "n=512 k=0 epoch=22 train_loss=0.004109772822509209 train_accu=0.0 valid_loss=0.004161994578316808 valid_accu=0.0\n",
      "n=512 k=0 epoch=23 train_loss=0.004049751969675223 train_accu=0.0 valid_loss=0.004102090280503035 valid_accu=0.0\n",
      "n=512 k=0 epoch=24 train_loss=0.004035728742989401 train_accu=0.0 valid_loss=0.004089086269959808 valid_accu=0.0\n",
      "n=512 k=0 epoch=25 train_loss=0.004020310868509114 train_accu=0.0 valid_loss=0.00407502418383956 valid_accu=0.0\n",
      "n=512 k=0 epoch=26 train_loss=0.0039745285990647975 train_accu=0.0 valid_loss=0.00402982640080154 valid_accu=0.0\n",
      "n=512 k=0 epoch=27 train_loss=0.00404370828376462 train_accu=0.0 valid_loss=0.004102681577205658 valid_accu=0.0\n",
      "n=512 k=0 epoch=28 train_loss=0.003906635916791856 train_accu=0.0 valid_loss=0.003963007219135761 valid_accu=0.0\n",
      "n=512 k=0 epoch=29 train_loss=0.0038788465511364243 train_accu=0.0 valid_loss=0.003936362755484879 valid_accu=0.0\n",
      "n=512 k=0 epoch=30 train_loss=0.003946206396600853 train_accu=0.0 valid_loss=0.00400444925762713 valid_accu=0.0\n",
      "n=512 k=0 epoch=31 train_loss=0.003912656893953681 train_accu=0.0 valid_loss=0.003972316510044038 valid_accu=0.0\n",
      "n=512 k=0 epoch=32 train_loss=0.0038821495914210876 train_accu=0.0 valid_loss=0.003941138740628958 valid_accu=0.0\n",
      "n=512 k=0 epoch=33 train_loss=0.0038814173351662856 train_accu=0.0 valid_loss=0.003943589795380831 valid_accu=0.0\n",
      "n=512 k=0 epoch=34 train_loss=0.0038575957568051916 train_accu=0.0 valid_loss=0.003919615224003792 valid_accu=0.0\n",
      "n=512 k=0 epoch=35 train_loss=0.0038102795602753758 train_accu=0.0 valid_loss=0.0038713925750926137 valid_accu=0.0\n",
      "n=512 k=0 epoch=36 train_loss=0.0038230925604390603 train_accu=0.0 valid_loss=0.0038849266711622477 valid_accu=0.0\n",
      "n=512 k=0 epoch=37 train_loss=0.0037838498945347966 train_accu=0.0 valid_loss=0.003845446603372693 valid_accu=0.0\n",
      "n=512 k=0 epoch=38 train_loss=0.0037302161178862053 train_accu=0.0 valid_loss=0.0037932263920083644 valid_accu=0.0\n",
      "n=512 k=0 epoch=39 train_loss=0.0037496732664294543 train_accu=0.0 valid_loss=0.0038124229060485957 valid_accu=0.0\n",
      "n=512 k=0 epoch=40 train_loss=0.003659229325906684 train_accu=0.0 valid_loss=0.0037249557208269835 valid_accu=0.0\n",
      "n=512 k=0 epoch=41 train_loss=0.004047876534362634 train_accu=0.0 valid_loss=0.0041121989488601685 valid_accu=0.0\n",
      "n=512 k=0 epoch=42 train_loss=0.0038212141254916785 train_accu=0.0 valid_loss=0.0038847823161631823 valid_accu=0.0\n",
      "n=512 k=0 epoch=43 train_loss=0.0037284021071779232 train_accu=0.0 valid_loss=0.0037928125355392696 valid_accu=0.0\n",
      "n=512 k=0 epoch=44 train_loss=0.0036378280026838185 train_accu=0.0 valid_loss=0.0037049689097329976 valid_accu=0.0\n",
      "n=512 k=0 epoch=45 train_loss=0.003637098695617169 train_accu=0.0 valid_loss=0.003704650653526187 valid_accu=0.0\n",
      "n=512 k=0 epoch=46 train_loss=0.003575713699683547 train_accu=0.0 valid_loss=0.003642797120846808 valid_accu=0.0\n",
      "n=512 k=0 epoch=47 train_loss=0.0036467368365265427 train_accu=0.0 valid_loss=0.0037142052548006176 valid_accu=0.0\n",
      "n=512 k=0 epoch=48 train_loss=0.003839518618769944 train_accu=0.0 valid_loss=0.003908619447611272 valid_accu=0.0\n",
      "n=512 k=0 epoch=49 train_loss=0.003600812059206267 train_accu=0.0 valid_loss=0.003669931017793715 valid_accu=0.0\n"
     ]
    }
   ],
   "source": [
    "# Definimos hiperparámetros de entrenamiento\n",
    "learning_rate = 1e-3\n",
    "batch_size = 1000\n",
    "num_epochs = 50\n",
    "num_k = 1 #72\n",
    "n=512#256#128#64\n",
    "\n",
    "# Creamos una funcion de perdida\n",
    "loss_fn = nn.MSELoss()\n",
    "# Creamos un DataFrame de pandas para ir almacenando los valores calculados.\n",
    "df = pd.DataFrame()\n",
    "# Simulamos por tramos porque google colab se desconecta antes de que concluya para todos los valores de n en la lista.\n",
    "\n",
    "#sizes=[64,128,256,512]\n",
    "#for n in sizes:\n",
    "for k in range(num_k):\n",
    "    # Creamos el modelo y el optimzador\n",
    "    model = Autoencoder(n)\n",
    "    # Creamos los dataloaders ...\n",
    "    train_dataloader = DataLoader(train_dataset,batch_size=batch_size)\n",
    "    # ... en particular, usamos el dataset de prueba (test) como dataset de validación\n",
    "    valid_dataloader = DataLoader(test_dataset,batch_size=batch_size)         \n",
    "    #optimizer = torch.optim.SGD(model.parameters(),lr=learning_rate)\n",
    "    optimizer = torch.optim.Adam(model.parameters(),lr=learning_rate,eps=1e-08,weight_decay=0,amsgrad=False)\n",
    "    # Entrenamos el modelo y calcualmos curvas.\n",
    "    min_valid_loss = float(\"inf\")\n",
    "    for epoch in range(num_epochs):\n",
    "        train_loop(train_dataloader,model,loss_fn,optimizer)\n",
    "        train_loss,train_accu = test_loop(train_dataloader,model,loss_fn)\n",
    "        valid_loss,valid_accu = test_loop(valid_dataloader,model,loss_fn)\n",
    "        print(f\"n={n} k={k} epoch={epoch} train_loss={train_loss} train_accu={train_accu} valid_loss={valid_loss} valid_accu={valid_accu}\")\n",
    "        df = df.append({\"n\":n,\n",
    "                        \"k\":k,\n",
    "                        \"epoch\":epoch,\n",
    "                        \"train_loss\":train_loss,\n",
    "                        \"train_accu\":train_accu,\n",
    "                        \"valid_loss\":valid_loss,\n",
    "                        \"valid_accu\":valid_accu}\n",
    "                        ,ignore_index=True)\n",
    "json_fname = \"simulation-results-\"+datetime.datetime.now().strftime(\"%Y-%m-%d-%H-%M-%S\")+\".json\"\n",
    "df.to_json(json_fname)\n",
    "if COLAB:\n",
    "    files.download(json_fname)"
   ]
  },
  {
   "cell_type": "code",
   "execution_count": 114,
   "metadata": {},
   "outputs": [
    {
     "name": "stdout",
     "output_type": "stream",
     "text": [
      "imagen.shape=torch.Size([1, 28, 28])\n"
     ]
    }
   ],
   "source": [
    "# Elegimos una imagen y calculamos la correspondiente prediccion generada por el modelo.\n",
    "sample_idx = torch.randint(len(test_dataset),size=(1,)).item()\n",
    "imagen,label = test_dataset[sample_idx]\n",
    "print(f\"imagen.shape={imagen.shape}\")\n",
    "imagen_gpu = imagen.to(device)\n",
    "pred_gpu = model(imagen_gpu)\n",
    "pred_cpu = pred_gpu.detach().cpu().numpy().reshape((1,28,28)) # Pasamos la predección a la CPU y le damos el formato de una imagen de 28x28 píxeles."
   ]
  },
  {
   "cell_type": "code",
   "execution_count": 115,
   "metadata": {},
   "outputs": [
    {
     "data": {
      "image/png": "[encoded data removed]",
      "text/plain": [
       "<Figure size 720x360 with 2 Axes>"
      ]
     },
     "metadata": {
      "needs_background": "light"
     },
     "output_type": "display_data"
    }
   ],
   "source": [
    "# Ploteamos una imagen y la correspondiente generada por el modelo.\n",
    "fig,axes=plt.subplots(1,2)\n",
    "fig.set_size_inches(10.0,5.0)\n",
    "ax = axes[0]\n",
    "ax.axis(\"off\")\n",
    "ax.imshow(imagen.squeeze(),cmap=\"gray\")\n",
    "ax = axes[1]\n",
    "ax.axis(\"off\")\n",
    "ax.imshow(pred_cpu.squeeze(),cmap=\"gray\")\n",
    "fig.tight_layout()\n",
    "#plt.savefig(\"ggggggggs.jpg\",bbox_inches='tight')\n",
    "plt.savefig('bota_512neuronas5.jpg')\n",
    "plt.show()"
   ]
  },
  {
   "cell_type": "code",
   "execution_count": 116,
   "metadata": {},
   "outputs": [
    {
     "name": "stderr",
     "output_type": "stream",
     "text": [
      "/tmp/ipykernel_149201/4142443721.py:1: FutureWarning: In a future version of pandas all arguments of DataFrame.drop except for the argument 'labels' will be keyword-only\n",
      "  df1 = df.drop(\"k\",1)\n"
     ]
    }
   ],
   "source": [
    "df1 = df.drop(\"k\",1)\n",
    "#df1"
   ]
  },
  {
   "cell_type": "code",
   "execution_count": 117,
   "metadata": {},
   "outputs": [],
   "source": [
    "df2 = df1.pivot_table(index=[\"n\",\"epoch\"],aggfunc=\"count\").reset_index()\n",
    "#df2"
   ]
  },
  {
   "cell_type": "code",
   "execution_count": 118,
   "metadata": {},
   "outputs": [],
   "source": [
    "df3 = df1.pivot_table(index=[\"n\",\"epoch\"],aggfunc=\"mean\").reset_index()\n",
    "#df3"
   ]
  },
  {
   "cell_type": "code",
   "execution_count": 119,
   "metadata": {},
   "outputs": [
    {
     "data": {
      "image/png": "[encoded data removed]",
      "text/plain": [
       "<Figure size 720x360 with 1 Axes>"
      ]
     },
     "metadata": {
      "needs_background": "light"
     },
     "output_type": "display_data"
    }
   ],
   "source": [
    "fig,axes=plt.subplots(1,1)\n",
    "fig.set_size_inches(10.0,5.0)\n",
    "colors = cm.Dark2.colors\n",
    "for color,n in zip(colors,df[\"n\"].unique()):\n",
    "    dfn = df3[df3[\"n\"]==n]\n",
    "    x = dfn[\"epoch\"]\n",
    "    ax = axes\n",
    "    ax.set_xlabel(\"epoch\")\n",
    "    ax.set_ylabel(\"loss\")\n",
    "    ax.plot(x,dfn[\"train_loss\"],label=f\"entrenamiento n={n}\",color=color)\n",
    "    ax.plot(x,dfn[\"valid_loss\"],label=f\"validación n={n}\",color='black',linestyle='--')\n",
    "    ax.legend()\n",
    "    #ax = axes[1]\n",
    "    #ax.set_xlabel(\"epoch\")\n",
    "    #ax.set_ylabel(\"accuracy\")\n",
    "    #ax.plot(x,dfn[\"train_accu\"],label=f\"train n={n}\",color=color)\n",
    "    #ax.plot(x,dfn[\"valid_accu\"],label=f\"test n={n}\",color='black',linestyle='--')\n",
    "    #ax.legend()\n",
    "fig.tight_layout()\n",
    "plt.savefig('loss_512.jpg')\n",
    "plt.show()"
   ]
  },
  {
   "cell_type": "code",
   "execution_count": null,
   "metadata": {},
   "outputs": [],
   "source": []
  }
 ],
 "metadata": {
  "kernelspec": {
   "display_name": "Python 3 (ipykernel)",
   "language": "python",
   "name": "python3"
  },
  "language_info": {
   "codemirror_mode": {
    "name": "ipython",
    "version": 3
   },
   "file_extension": ".py",
   "mimetype": "text/x-python",
   "name": "python",
   "nbconvert_exporter": "python",
   "pygments_lexer": "ipython3",
   "version": "3.9.7"
  }
 },
 "nbformat": 4,
 "nbformat_minor": 4
}
